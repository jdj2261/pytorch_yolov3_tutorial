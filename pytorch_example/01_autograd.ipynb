{
 "metadata": {
  "language_info": {
   "codemirror_mode": {
    "name": "ipython",
    "version": 3
   },
   "file_extension": ".py",
   "mimetype": "text/x-python",
   "name": "python",
   "nbconvert_exporter": "python",
   "pygments_lexer": "ipython3",
   "version": "3.5.6"
  },
  "orig_nbformat": 2,
  "kernelspec": {
   "name": "python3",
   "display_name": "Python 3.5.6 64-bit ('YOLO_v3_tutorial_from_scratch': conda)",
   "metadata": {
    "interpreter": {
     "hash": "e9ff8153d739c8f01a32300691f30a3a72c077994f1b300bad073cf11014a08f"
    }
   }
  }
 },
 "nbformat": 4,
 "nbformat_minor": 2,
 "cells": [
  {
   "cell_type": "code",
   "execution_count": 1,
   "metadata": {},
   "outputs": [],
   "source": [
    "import torch\n",
    "import numpy as np\n",
    "\n",
    "a = torch.Tensor(np.array([[1]])) \n",
    "a = torch.autograd.Variable(a, requires_grad=True)"
   ]
  },
  {
   "cell_type": "code",
   "execution_count": 2,
   "metadata": {},
   "outputs": [],
   "source": [
    "b = a + 2\n",
    "c = b**2\n",
    "d = c*3"
   ]
  },
  {
   "cell_type": "code",
   "execution_count": 3,
   "metadata": {},
   "outputs": [
    {
     "output_type": "stream",
     "name": "stdout",
     "text": [
      "==================================================\nd.data: tensor([[27.]])\nd.grad: None\nd.grad_fn: <MulBackward0 object at 0x7f0479344c18>\n"
     ]
    }
   ],
   "source": [
    "d.backward() \n",
    "print(\"=\"*50) \n",
    "print(\"d.data:\", d.data) \n",
    "print(\"d.grad:\", d.grad) \n",
    "print(\"d.grad_fn:\", d.grad_fn)"
   ]
  },
  {
   "cell_type": "code",
   "execution_count": 4,
   "metadata": {},
   "outputs": [
    {
     "output_type": "stream",
     "name": "stdout",
     "text": [
      "==================================================\nc.data: tensor([[9.]])\nc.grad: None\nc.grad_fn: <PowBackward0 object at 0x7f040d20eeb8>\n"
     ]
    }
   ],
   "source": [
    "print(\"=\"*50) \n",
    "print(\"c.data:\", c.data) \n",
    "print(\"c.grad:\", c.grad) \n",
    "print(\"c.grad_fn:\", c.grad_fn)"
   ]
  },
  {
   "cell_type": "code",
   "execution_count": 5,
   "metadata": {},
   "outputs": [
    {
     "output_type": "stream",
     "name": "stdout",
     "text": [
      "==================================================\nb.data: tensor([[3.]])\nb.grad: None\nb.grad_fn: <AddBackward0 object at 0x7f040d21fa58>\n==================================================\na.data: tensor([[1.]])\na.grad: tensor([[18.]])\na.grad_fn: None\n"
     ]
    }
   ],
   "source": [
    "print(\"=\"*50)\n",
    "print(\"b.data:\", b.data) \n",
    "print(\"b.grad:\", b.grad)\n",
    "print(\"b.grad_fn:\", b.grad_fn) \n",
    "\n",
    "print(\"=\"*50) \n",
    "print(\"a.data:\", a.data) \n",
    "print(\"a.grad:\", a.grad) \n",
    "print(\"a.grad_fn:\", a.grad_fn)"
   ]
  }
 ]
}